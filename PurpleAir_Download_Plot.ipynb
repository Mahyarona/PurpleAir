{
  "nbformat": 4,
  "nbformat_minor": 0,
  "metadata": {
    "colab": {
      "provenance": []
    },
    "kernelspec": {
      "name": "python3",
      "display_name": "Python 3"
    },
    "language_info": {
      "name": "python"
    }
  },
  "cells": [
    {
      "cell_type": "markdown",
      "source": [
        "# **Find the sensor ID**"
      ],
      "metadata": {
        "id": "AQ8UCRvvAt03"
      }
    },
    {
      "cell_type": "code",
      "execution_count": null,
      "metadata": {
        "id": "AkHAiyOiAVUU"
      },
      "outputs": [],
      "source": [
        "import requests\n",
        "# Mosquito Fire : -120.7447,39.00591\n",
        "url = \"https://api.purpleair.com/v1/sensors\"\n",
        "\n",
        "querystring = { \"fields\": \"latitude,altitude,longitude\", \"location_type\": \"0\", \"nwlng\": \"-120.84\", \"nwlat\": \"39.1\", \"selng\": \"-120.64\", \"selat\": \"38.9\" }\n",
        "\n",
        "headers = { \"X-API-Key\": \"YOUR API KEY\" }\n",
        "\n",
        "response = requests.get(url, headers=headers, params=querystring)\n",
        "\n",
        "print(response.text)"
      ]
    },
    {
      "cell_type": "markdown",
      "source": [
        "# **Convert Unix Timestamp to a regular datetime**"
      ],
      "metadata": {
        "id": "7pix90ZPA2hS"
      }
    },
    {
      "cell_type": "code",
      "source": [
        "import datetime\n",
        "\n",
        "start_date = '2022-09-06'\n",
        "end_date ='2022-09-19'\n",
        "date_format = '%Y-%m-%d'\n",
        "start_date_unix = datetime.datetime.strptime(start_date, date_format)\n",
        "end_date_unix = datetime.datetime.strptime(end_date, date_format)\n",
        "print('start_date=',int(start_date_unix.timestamp()),'end_date=',int(end_date_unix.timestamp()))"
      ],
      "metadata": {
        "id": "sGjcdw20AW3M"
      },
      "execution_count": null,
      "outputs": []
    },
    {
      "cell_type": "markdown",
      "source": [
        "# **Downlaod the PurpleAir data**"
      ],
      "metadata": {
        "id": "q-4nYiKOBDm0"
      }
    },
    {
      "cell_type": "code",
      "source": [
        "import requests\n",
        "from io import StringIO\n",
        "import pandas as pd\n",
        "\n",
        "sensor_ID = '8092'  # 111415, 116649, 158587, 79615, 8092\n",
        "url = f\"https://api.purpleair.com/v1/sensors/{sensor_ID}/history/csv\"\n",
        "\n",
        "headers = {\n",
        "    \"X-API-Key\": \"YOUR API KEY\"\n",
        "}\n",
        "params = {\n",
        "    \"start_timestamp\": \"1662447600\",\n",
        "    \"end_timestamp\": \"1663570800\",\n",
        "    \"average\": \"60\",\n",
        "    \"fields\": \"pm2.5_atm\"\n",
        "}\n",
        "\n",
        "response = requests.get(url, headers=headers, params=params)\n",
        "\n",
        "# Access the response content\n",
        "#print(response.content)\n",
        "df = pd.read_csv(StringIO(response.content.decode()), sep=',')\n",
        "\n",
        "# Convert Unix timestamps to date strings with hours\n",
        "df['date_string'] = df['time_stamp'].apply(lambda x: datetime.datetime.fromtimestamp(x).strftime('%Y-%m-%d %H:%M:%S'))\n",
        "df_sorted = df.sort_values(by='date_string', key=lambda x: pd.to_datetime(x))\n",
        "\n",
        "# Convert the 'date_string' column to datetime format\n",
        "df_sorted['date_string'] = pd.to_datetime(df_sorted['date_string'])\n",
        "\n",
        "# Extract the 'yyyy-mm-dd' part from the 'date_string' column\n",
        "df_sorted['date'] = df_sorted['date_string'].dt.date\n",
        "# Save the dataframe in a CSV\n",
        "df_sorted.to_csv(f'{sensor_ID}.csv', index=False)"
      ],
      "metadata": {
        "id": "iUtdyn97AZu8"
      },
      "execution_count": null,
      "outputs": []
    },
    {
      "cell_type": "markdown",
      "source": [
        "# **Plot the PurpleAir data**"
      ],
      "metadata": {
        "id": "dTT_8-W1BJ8T"
      }
    },
    {
      "cell_type": "code",
      "source": [
        "from numpy.core.multiarray import datetime_as_string\n",
        "import matplotlib.pyplot as plt\n",
        "\n",
        "# Read the CSV files (PurpleAir)\n",
        "df_111415 = pd.read_csv('111415.csv')\n",
        "df_116649= pd.read_csv('116649.csv')\n",
        "df_158587 = pd.read_csv('158587.csv')\n",
        "df_79615= pd.read_csv('79615.csv')\n",
        "df_8092= pd.read_csv('8092.csv')\n",
        "\n",
        "# Filter the Dataframe\n",
        "cols=['sensor_index','date_string', 'pm2.5_atm']\n",
        "df_pureple_air = pd.concat([df_111415[cols], df_116649[cols], df_158587[cols], df_79615[cols], df_8092[cols]], ignore_index=True)\n",
        "df_pureple_air['date_string'] = pd.to_datetime(df_pureple_air['date_string'])\n",
        "\n",
        "# Plotting the data\n",
        "plt.figure(figsize=(10, 6))\n",
        "for sensor_id, group in df_pureple_air.groupby('sensor_index'):\n",
        "    plt.plot(group['date_string'], group['pm2.5_atm'], marker='o', linestyle='-', label=sensor_id)\n",
        "\n",
        "# Adding labels and title\n",
        "plt.xlabel('Date')\n",
        "plt.ylabel('PM 2.5')\n",
        "plt.title('Timeseries of PurepleAir Sensors')\n",
        "plt.legend()\n",
        "plt.show()"
      ],
      "metadata": {
        "id": "OnAOvJGmAdJH"
      },
      "execution_count": null,
      "outputs": []
    }
  ]
}